{
  "nbformat": 4,
  "nbformat_minor": 0,
  "metadata": {
    "colab": {
      "provenance": [],
      "include_colab_link": true
    },
    "kernelspec": {
      "name": "python3",
      "display_name": "Python 3"
    },
    "language_info": {
      "name": "python"
    }
  },
  "cells": [
    {
      "cell_type": "markdown",
      "metadata": {
        "id": "view-in-github",
        "colab_type": "text"
      },
      "source": [
        "<a href=\"https://colab.research.google.com/github/trineke888/Examples/blob/main/%D0%9A%D0%BE%D0%BF%D0%B8%D1%8F_%D0%B1%D0%BB%D0%BE%D0%BA%D0%BD%D0%BE%D1%82%D0%B0_%22Seminar_2(27_02)_ipynb%22.ipynb\" target=\"_parent\"><img src=\"https://colab.research.google.com/assets/colab-badge.svg\" alt=\"Open In Colab\"/></a>"
      ]
    },
    {
      "cell_type": "markdown",
      "source": [
        "## Задание 1.\n",
        "1. Скачать данные файл laptop_prices.csv (Дополнительный материал)\n",
        "2. Считать данные с помощью pandas\n",
        "3. Вывести на экран первые 5 строк\n",
        "4. Посмотреть на описание признаков и на их содержание"
      ],
      "metadata": {
        "id": "aO1tXpgj4qLB"
      }
    },
    {
      "cell_type": "code",
      "source": [
        "import pandas as pd\n",
        "\n",
        "\n",
        "df = pd.read_csv(\"laptop_price.csv\") # sep=';'\n",
        "df.head()"
      ],
      "metadata": {
        "colab": {
          "base_uri": "https://localhost:8080/",
          "height": 327
        },
        "id": "o9qREchl4q_T",
        "outputId": "6d0b9e32-c4ee-4053-9429-001de22249b9"
      },
      "execution_count": null,
      "outputs": [
        {
          "output_type": "execute_result",
          "data": {
            "text/plain": [
              "   laptop_ID Company      Product   TypeName  Inches  \\\n",
              "0          1   Apple  MacBook Pro  Ultrabook    13.3   \n",
              "1          2   Apple  Macbook Air  Ultrabook    13.3   \n",
              "2          3      HP       250 G6   Notebook    15.6   \n",
              "3          4   Apple  MacBook Pro  Ultrabook    15.4   \n",
              "4          5   Apple  MacBook Pro  Ultrabook    13.3   \n",
              "\n",
              "                     ScreenResolution                         Cpu   Ram  \\\n",
              "0  IPS Panel Retina Display 2560x1600        Intel Core i5 2.3GHz   8GB   \n",
              "1                            1440x900        Intel Core i5 1.8GHz   8GB   \n",
              "2                   Full HD 1920x1080  Intel Core i5 7200U 2.5GHz   8GB   \n",
              "3  IPS Panel Retina Display 2880x1800        Intel Core i7 2.7GHz  16GB   \n",
              "4  IPS Panel Retina Display 2560x1600        Intel Core i5 3.1GHz   8GB   \n",
              "\n",
              "                Memory                           Gpu  OpSys  Weight  \\\n",
              "0            128GB SSD  Intel Iris Plus Graphics 640  macOS  1.37kg   \n",
              "1  128GB Flash Storage        Intel HD Graphics 6000  macOS  1.34kg   \n",
              "2            256GB SSD         Intel HD Graphics 620  No OS  1.86kg   \n",
              "3            512GB SSD            AMD Radeon Pro 455  macOS  1.83kg   \n",
              "4            256GB SSD  Intel Iris Plus Graphics 650  macOS  1.37kg   \n",
              "\n",
              "   Price_euros  \n",
              "0      1339.69  \n",
              "1       898.94  \n",
              "2       575.00  \n",
              "3      2537.45  \n",
              "4      1803.60  "
            ],
            "text/html": [
              "\n",
              "  <div id=\"df-62070d3a-db0f-4f14-88bf-2139b0a77c72\" class=\"colab-df-container\">\n",
              "    <div>\n",
              "<style scoped>\n",
              "    .dataframe tbody tr th:only-of-type {\n",
              "        vertical-align: middle;\n",
              "    }\n",
              "\n",
              "    .dataframe tbody tr th {\n",
              "        vertical-align: top;\n",
              "    }\n",
              "\n",
              "    .dataframe thead th {\n",
              "        text-align: right;\n",
              "    }\n",
              "</style>\n",
              "<table border=\"1\" class=\"dataframe\">\n",
              "  <thead>\n",
              "    <tr style=\"text-align: right;\">\n",
              "      <th></th>\n",
              "      <th>laptop_ID</th>\n",
              "      <th>Company</th>\n",
              "      <th>Product</th>\n",
              "      <th>TypeName</th>\n",
              "      <th>Inches</th>\n",
              "      <th>ScreenResolution</th>\n",
              "      <th>Cpu</th>\n",
              "      <th>Ram</th>\n",
              "      <th>Memory</th>\n",
              "      <th>Gpu</th>\n",
              "      <th>OpSys</th>\n",
              "      <th>Weight</th>\n",
              "      <th>Price_euros</th>\n",
              "    </tr>\n",
              "  </thead>\n",
              "  <tbody>\n",
              "    <tr>\n",
              "      <th>0</th>\n",
              "      <td>1</td>\n",
              "      <td>Apple</td>\n",
              "      <td>MacBook Pro</td>\n",
              "      <td>Ultrabook</td>\n",
              "      <td>13.3</td>\n",
              "      <td>IPS Panel Retina Display 2560x1600</td>\n",
              "      <td>Intel Core i5 2.3GHz</td>\n",
              "      <td>8GB</td>\n",
              "      <td>128GB SSD</td>\n",
              "      <td>Intel Iris Plus Graphics 640</td>\n",
              "      <td>macOS</td>\n",
              "      <td>1.37kg</td>\n",
              "      <td>1339.69</td>\n",
              "    </tr>\n",
              "    <tr>\n",
              "      <th>1</th>\n",
              "      <td>2</td>\n",
              "      <td>Apple</td>\n",
              "      <td>Macbook Air</td>\n",
              "      <td>Ultrabook</td>\n",
              "      <td>13.3</td>\n",
              "      <td>1440x900</td>\n",
              "      <td>Intel Core i5 1.8GHz</td>\n",
              "      <td>8GB</td>\n",
              "      <td>128GB Flash Storage</td>\n",
              "      <td>Intel HD Graphics 6000</td>\n",
              "      <td>macOS</td>\n",
              "      <td>1.34kg</td>\n",
              "      <td>898.94</td>\n",
              "    </tr>\n",
              "    <tr>\n",
              "      <th>2</th>\n",
              "      <td>3</td>\n",
              "      <td>HP</td>\n",
              "      <td>250 G6</td>\n",
              "      <td>Notebook</td>\n",
              "      <td>15.6</td>\n",
              "      <td>Full HD 1920x1080</td>\n",
              "      <td>Intel Core i5 7200U 2.5GHz</td>\n",
              "      <td>8GB</td>\n",
              "      <td>256GB SSD</td>\n",
              "      <td>Intel HD Graphics 620</td>\n",
              "      <td>No OS</td>\n",
              "      <td>1.86kg</td>\n",
              "      <td>575.00</td>\n",
              "    </tr>\n",
              "    <tr>\n",
              "      <th>3</th>\n",
              "      <td>4</td>\n",
              "      <td>Apple</td>\n",
              "      <td>MacBook Pro</td>\n",
              "      <td>Ultrabook</td>\n",
              "      <td>15.4</td>\n",
              "      <td>IPS Panel Retina Display 2880x1800</td>\n",
              "      <td>Intel Core i7 2.7GHz</td>\n",
              "      <td>16GB</td>\n",
              "      <td>512GB SSD</td>\n",
              "      <td>AMD Radeon Pro 455</td>\n",
              "      <td>macOS</td>\n",
              "      <td>1.83kg</td>\n",
              "      <td>2537.45</td>\n",
              "    </tr>\n",
              "    <tr>\n",
              "      <th>4</th>\n",
              "      <td>5</td>\n",
              "      <td>Apple</td>\n",
              "      <td>MacBook Pro</td>\n",
              "      <td>Ultrabook</td>\n",
              "      <td>13.3</td>\n",
              "      <td>IPS Panel Retina Display 2560x1600</td>\n",
              "      <td>Intel Core i5 3.1GHz</td>\n",
              "      <td>8GB</td>\n",
              "      <td>256GB SSD</td>\n",
              "      <td>Intel Iris Plus Graphics 650</td>\n",
              "      <td>macOS</td>\n",
              "      <td>1.37kg</td>\n",
              "      <td>1803.60</td>\n",
              "    </tr>\n",
              "  </tbody>\n",
              "</table>\n",
              "</div>\n",
              "    <div class=\"colab-df-buttons\">\n",
              "\n",
              "  <div class=\"colab-df-container\">\n",
              "    <button class=\"colab-df-convert\" onclick=\"convertToInteractive('df-62070d3a-db0f-4f14-88bf-2139b0a77c72')\"\n",
              "            title=\"Convert this dataframe to an interactive table.\"\n",
              "            style=\"display:none;\">\n",
              "\n",
              "  <svg xmlns=\"http://www.w3.org/2000/svg\" height=\"24px\" viewBox=\"0 -960 960 960\">\n",
              "    <path d=\"M120-120v-720h720v720H120Zm60-500h600v-160H180v160Zm220 220h160v-160H400v160Zm0 220h160v-160H400v160ZM180-400h160v-160H180v160Zm440 0h160v-160H620v160ZM180-180h160v-160H180v160Zm440 0h160v-160H620v160Z\"/>\n",
              "  </svg>\n",
              "    </button>\n",
              "\n",
              "  <style>\n",
              "    .colab-df-container {\n",
              "      display:flex;\n",
              "      gap: 12px;\n",
              "    }\n",
              "\n",
              "    .colab-df-convert {\n",
              "      background-color: #E8F0FE;\n",
              "      border: none;\n",
              "      border-radius: 50%;\n",
              "      cursor: pointer;\n",
              "      display: none;\n",
              "      fill: #1967D2;\n",
              "      height: 32px;\n",
              "      padding: 0 0 0 0;\n",
              "      width: 32px;\n",
              "    }\n",
              "\n",
              "    .colab-df-convert:hover {\n",
              "      background-color: #E2EBFA;\n",
              "      box-shadow: 0px 1px 2px rgba(60, 64, 67, 0.3), 0px 1px 3px 1px rgba(60, 64, 67, 0.15);\n",
              "      fill: #174EA6;\n",
              "    }\n",
              "\n",
              "    .colab-df-buttons div {\n",
              "      margin-bottom: 4px;\n",
              "    }\n",
              "\n",
              "    [theme=dark] .colab-df-convert {\n",
              "      background-color: #3B4455;\n",
              "      fill: #D2E3FC;\n",
              "    }\n",
              "\n",
              "    [theme=dark] .colab-df-convert:hover {\n",
              "      background-color: #434B5C;\n",
              "      box-shadow: 0px 1px 3px 1px rgba(0, 0, 0, 0.15);\n",
              "      filter: drop-shadow(0px 1px 2px rgba(0, 0, 0, 0.3));\n",
              "      fill: #FFFFFF;\n",
              "    }\n",
              "  </style>\n",
              "\n",
              "    <script>\n",
              "      const buttonEl =\n",
              "        document.querySelector('#df-62070d3a-db0f-4f14-88bf-2139b0a77c72 button.colab-df-convert');\n",
              "      buttonEl.style.display =\n",
              "        google.colab.kernel.accessAllowed ? 'block' : 'none';\n",
              "\n",
              "      async function convertToInteractive(key) {\n",
              "        const element = document.querySelector('#df-62070d3a-db0f-4f14-88bf-2139b0a77c72');\n",
              "        const dataTable =\n",
              "          await google.colab.kernel.invokeFunction('convertToInteractive',\n",
              "                                                    [key], {});\n",
              "        if (!dataTable) return;\n",
              "\n",
              "        const docLinkHtml = 'Like what you see? Visit the ' +\n",
              "          '<a target=\"_blank\" href=https://colab.research.google.com/notebooks/data_table.ipynb>data table notebook</a>'\n",
              "          + ' to learn more about interactive tables.';\n",
              "        element.innerHTML = '';\n",
              "        dataTable['output_type'] = 'display_data';\n",
              "        await google.colab.output.renderOutput(dataTable, element);\n",
              "        const docLink = document.createElement('div');\n",
              "        docLink.innerHTML = docLinkHtml;\n",
              "        element.appendChild(docLink);\n",
              "      }\n",
              "    </script>\n",
              "  </div>\n",
              "\n",
              "\n",
              "<div id=\"df-6c55b765-0de6-488f-8074-e6a946ba86c3\">\n",
              "  <button class=\"colab-df-quickchart\" onclick=\"quickchart('df-6c55b765-0de6-488f-8074-e6a946ba86c3')\"\n",
              "            title=\"Suggest charts\"\n",
              "            style=\"display:none;\">\n",
              "\n",
              "<svg xmlns=\"http://www.w3.org/2000/svg\" height=\"24px\"viewBox=\"0 0 24 24\"\n",
              "     width=\"24px\">\n",
              "    <g>\n",
              "        <path d=\"M19 3H5c-1.1 0-2 .9-2 2v14c0 1.1.9 2 2 2h14c1.1 0 2-.9 2-2V5c0-1.1-.9-2-2-2zM9 17H7v-7h2v7zm4 0h-2V7h2v10zm4 0h-2v-4h2v4z\"/>\n",
              "    </g>\n",
              "</svg>\n",
              "  </button>\n",
              "\n",
              "<style>\n",
              "  .colab-df-quickchart {\n",
              "      --bg-color: #E8F0FE;\n",
              "      --fill-color: #1967D2;\n",
              "      --hover-bg-color: #E2EBFA;\n",
              "      --hover-fill-color: #174EA6;\n",
              "      --disabled-fill-color: #AAA;\n",
              "      --disabled-bg-color: #DDD;\n",
              "  }\n",
              "\n",
              "  [theme=dark] .colab-df-quickchart {\n",
              "      --bg-color: #3B4455;\n",
              "      --fill-color: #D2E3FC;\n",
              "      --hover-bg-color: #434B5C;\n",
              "      --hover-fill-color: #FFFFFF;\n",
              "      --disabled-bg-color: #3B4455;\n",
              "      --disabled-fill-color: #666;\n",
              "  }\n",
              "\n",
              "  .colab-df-quickchart {\n",
              "    background-color: var(--bg-color);\n",
              "    border: none;\n",
              "    border-radius: 50%;\n",
              "    cursor: pointer;\n",
              "    display: none;\n",
              "    fill: var(--fill-color);\n",
              "    height: 32px;\n",
              "    padding: 0;\n",
              "    width: 32px;\n",
              "  }\n",
              "\n",
              "  .colab-df-quickchart:hover {\n",
              "    background-color: var(--hover-bg-color);\n",
              "    box-shadow: 0 1px 2px rgba(60, 64, 67, 0.3), 0 1px 3px 1px rgba(60, 64, 67, 0.15);\n",
              "    fill: var(--button-hover-fill-color);\n",
              "  }\n",
              "\n",
              "  .colab-df-quickchart-complete:disabled,\n",
              "  .colab-df-quickchart-complete:disabled:hover {\n",
              "    background-color: var(--disabled-bg-color);\n",
              "    fill: var(--disabled-fill-color);\n",
              "    box-shadow: none;\n",
              "  }\n",
              "\n",
              "  .colab-df-spinner {\n",
              "    border: 2px solid var(--fill-color);\n",
              "    border-color: transparent;\n",
              "    border-bottom-color: var(--fill-color);\n",
              "    animation:\n",
              "      spin 1s steps(1) infinite;\n",
              "  }\n",
              "\n",
              "  @keyframes spin {\n",
              "    0% {\n",
              "      border-color: transparent;\n",
              "      border-bottom-color: var(--fill-color);\n",
              "      border-left-color: var(--fill-color);\n",
              "    }\n",
              "    20% {\n",
              "      border-color: transparent;\n",
              "      border-left-color: var(--fill-color);\n",
              "      border-top-color: var(--fill-color);\n",
              "    }\n",
              "    30% {\n",
              "      border-color: transparent;\n",
              "      border-left-color: var(--fill-color);\n",
              "      border-top-color: var(--fill-color);\n",
              "      border-right-color: var(--fill-color);\n",
              "    }\n",
              "    40% {\n",
              "      border-color: transparent;\n",
              "      border-right-color: var(--fill-color);\n",
              "      border-top-color: var(--fill-color);\n",
              "    }\n",
              "    60% {\n",
              "      border-color: transparent;\n",
              "      border-right-color: var(--fill-color);\n",
              "    }\n",
              "    80% {\n",
              "      border-color: transparent;\n",
              "      border-right-color: var(--fill-color);\n",
              "      border-bottom-color: var(--fill-color);\n",
              "    }\n",
              "    90% {\n",
              "      border-color: transparent;\n",
              "      border-bottom-color: var(--fill-color);\n",
              "    }\n",
              "  }\n",
              "</style>\n",
              "\n",
              "  <script>\n",
              "    async function quickchart(key) {\n",
              "      const quickchartButtonEl =\n",
              "        document.querySelector('#' + key + ' button');\n",
              "      quickchartButtonEl.disabled = true;  // To prevent multiple clicks.\n",
              "      quickchartButtonEl.classList.add('colab-df-spinner');\n",
              "      try {\n",
              "        const charts = await google.colab.kernel.invokeFunction(\n",
              "            'suggestCharts', [key], {});\n",
              "      } catch (error) {\n",
              "        console.error('Error during call to suggestCharts:', error);\n",
              "      }\n",
              "      quickchartButtonEl.classList.remove('colab-df-spinner');\n",
              "      quickchartButtonEl.classList.add('colab-df-quickchart-complete');\n",
              "    }\n",
              "    (() => {\n",
              "      let quickchartButtonEl =\n",
              "        document.querySelector('#df-6c55b765-0de6-488f-8074-e6a946ba86c3 button');\n",
              "      quickchartButtonEl.style.display =\n",
              "        google.colab.kernel.accessAllowed ? 'block' : 'none';\n",
              "    })();\n",
              "  </script>\n",
              "</div>\n",
              "    </div>\n",
              "  </div>\n"
            ],
            "application/vnd.google.colaboratory.intrinsic+json": {
              "type": "dataframe",
              "variable_name": "df",
              "summary": "{\n  \"name\": \"df\",\n  \"rows\": 1303,\n  \"fields\": [\n    {\n      \"column\": \"laptop_ID\",\n      \"properties\": {\n        \"dtype\": \"number\",\n        \"std\": 381,\n        \"min\": 1,\n        \"max\": 1320,\n        \"num_unique_values\": 1303,\n        \"samples\": [\n          486,\n          1036,\n          303\n        ],\n        \"semantic_type\": \"\",\n        \"description\": \"\"\n      }\n    },\n    {\n      \"column\": \"Company\",\n      \"properties\": {\n        \"dtype\": \"category\",\n        \"num_unique_values\": 19,\n        \"samples\": [\n          \"Apple\",\n          \"Lenovo\",\n          \"Xiaomi\"\n        ],\n        \"semantic_type\": \"\",\n        \"description\": \"\"\n      }\n    },\n    {\n      \"column\": \"Product\",\n      \"properties\": {\n        \"dtype\": \"category\",\n        \"num_unique_values\": 618,\n        \"samples\": [\n          \"GL72M 7RDX\",\n          \"GS73VR 7RF\",\n          \"E402WA-GA007T (E2-6110/4GB/64GB/W10\"\n        ],\n        \"semantic_type\": \"\",\n        \"description\": \"\"\n      }\n    },\n    {\n      \"column\": \"TypeName\",\n      \"properties\": {\n        \"dtype\": \"category\",\n        \"num_unique_values\": 6,\n        \"samples\": [\n          \"Ultrabook\",\n          \"Notebook\",\n          \"Workstation\"\n        ],\n        \"semantic_type\": \"\",\n        \"description\": \"\"\n      }\n    },\n    {\n      \"column\": \"Inches\",\n      \"properties\": {\n        \"dtype\": \"number\",\n        \"std\": 1.4263040545691645,\n        \"min\": 10.1,\n        \"max\": 18.4,\n        \"num_unique_values\": 18,\n        \"samples\": [\n          13.3,\n          15.6,\n          13.5\n        ],\n        \"semantic_type\": \"\",\n        \"description\": \"\"\n      }\n    },\n    {\n      \"column\": \"ScreenResolution\",\n      \"properties\": {\n        \"dtype\": \"category\",\n        \"num_unique_values\": 40,\n        \"samples\": [\n          \"IPS Panel 4K Ultra HD 3840x2160\",\n          \"4K Ultra HD / Touchscreen 3840x2160\",\n          \"IPS Panel Full HD 2160x1440\"\n        ],\n        \"semantic_type\": \"\",\n        \"description\": \"\"\n      }\n    },\n    {\n      \"column\": \"Cpu\",\n      \"properties\": {\n        \"dtype\": \"category\",\n        \"num_unique_values\": 118,\n        \"samples\": [\n          \"Intel Celeron Dual Core 3855U 1.6GHz\",\n          \"AMD A6-Series 7310 2GHz\",\n          \"Intel Core i5 3.1GHz\"\n        ],\n        \"semantic_type\": \"\",\n        \"description\": \"\"\n      }\n    },\n    {\n      \"column\": \"Ram\",\n      \"properties\": {\n        \"dtype\": \"category\",\n        \"num_unique_values\": 9,\n        \"samples\": [\n          \"24GB\",\n          \"16GB\",\n          \"6GB\"\n        ],\n        \"semantic_type\": \"\",\n        \"description\": \"\"\n      }\n    },\n    {\n      \"column\": \"Memory\",\n      \"properties\": {\n        \"dtype\": \"category\",\n        \"num_unique_values\": 39,\n        \"samples\": [\n          \"240GB SSD\",\n          \"1.0TB HDD\",\n          \"500GB HDD\"\n        ],\n        \"semantic_type\": \"\",\n        \"description\": \"\"\n      }\n    },\n    {\n      \"column\": \"Gpu\",\n      \"properties\": {\n        \"dtype\": \"category\",\n        \"num_unique_values\": 110,\n        \"samples\": [\n          \"AMD Radeon R7\",\n          \"AMD Radeon Pro 555\",\n          \"Intel Iris Plus Graphics 650\"\n        ],\n        \"semantic_type\": \"\",\n        \"description\": \"\"\n      }\n    },\n    {\n      \"column\": \"OpSys\",\n      \"properties\": {\n        \"dtype\": \"category\",\n        \"num_unique_values\": 9,\n        \"samples\": [\n          \"Chrome OS\",\n          \"No OS\",\n          \"Android\"\n        ],\n        \"semantic_type\": \"\",\n        \"description\": \"\"\n      }\n    },\n    {\n      \"column\": \"Weight\",\n      \"properties\": {\n        \"dtype\": \"category\",\n        \"num_unique_values\": 179,\n        \"samples\": [\n          \"4.42kg\",\n          \"1.35kg\",\n          \"2.03kg\"\n        ],\n        \"semantic_type\": \"\",\n        \"description\": \"\"\n      }\n    },\n    {\n      \"column\": \"Price_euros\",\n      \"properties\": {\n        \"dtype\": \"number\",\n        \"std\": 699.0090425337413,\n        \"min\": 174.0,\n        \"max\": 6099.0,\n        \"num_unique_values\": 791,\n        \"samples\": [\n          1292.0,\n          389.0,\n          1798.0\n        ],\n        \"semantic_type\": \"\",\n        \"description\": \"\"\n      }\n    }\n  ]\n}"
            }
          },
          "metadata": {},
          "execution_count": 2
        }
      ]
    },
    {
      "cell_type": "markdown",
      "source": [
        "## Задание 2.\n",
        "Проведите первичный анализ данных\n",
        "1. Изучите типы данных\n",
        "2. Найдите количество пропущенных ячеек в данных\n",
        "3. Посчитайте основные статистики по всем признакам и поизучайте их"
      ],
      "metadata": {
        "id": "SmyLGzhA61LV"
      }
    },
    {
      "cell_type": "code",
      "source": [
        "df.dtypes"
      ],
      "metadata": {
        "colab": {
          "base_uri": "https://localhost:8080/"
        },
        "id": "bWXwy6so62NT",
        "outputId": "9afacac6-5e59-43b2-9471-f4f0c84cbfaf"
      },
      "execution_count": null,
      "outputs": [
        {
          "output_type": "execute_result",
          "data": {
            "text/plain": [
              "laptop_ID             int64\n",
              "Company              object\n",
              "Product              object\n",
              "TypeName             object\n",
              "Inches              float64\n",
              "ScreenResolution     object\n",
              "Cpu                  object\n",
              "Ram                  object\n",
              "Memory               object\n",
              "Gpu                  object\n",
              "OpSys                object\n",
              "Weight               object\n",
              "Price_euros         float64\n",
              "dtype: object"
            ]
          },
          "metadata": {},
          "execution_count": 3
        }
      ]
    },
    {
      "cell_type": "code",
      "source": [
        "df.isnull().sum()"
      ],
      "metadata": {
        "colab": {
          "base_uri": "https://localhost:8080/"
        },
        "id": "lNJNqjip7v0m",
        "outputId": "df8366aa-901b-497e-e6e5-db5ff0d982bf"
      },
      "execution_count": null,
      "outputs": [
        {
          "output_type": "execute_result",
          "data": {
            "text/plain": [
              "laptop_ID           0\n",
              "Company             0\n",
              "Product             0\n",
              "TypeName            0\n",
              "Inches              0\n",
              "ScreenResolution    0\n",
              "Cpu                 0\n",
              "Ram                 0\n",
              "Memory              0\n",
              "Gpu                 0\n",
              "OpSys               0\n",
              "Weight              0\n",
              "Price_euros         0\n",
              "dtype: int64"
            ]
          },
          "metadata": {},
          "execution_count": 5
        }
      ]
    },
    {
      "cell_type": "code",
      "source": [
        "df.describe()\n",
        "# 1 2 3 4 5 6 7 8 9 10\n",
        "# медиана = 5(2-й перцинтиль)\n",
        "# 1 2 3 4 5 медиана = 3(1-й перцинтиль)\n",
        "# 6 7 8 9 10 медиана = 8(3-й перцинтиль)\n"
      ],
      "metadata": {
        "colab": {
          "base_uri": "https://localhost:8080/",
          "height": 300
        },
        "id": "D06FuQP_8B-N",
        "outputId": "67fc3a27-0c63-488e-dde7-d6ed5da976fc"
      },
      "execution_count": null,
      "outputs": [
        {
          "output_type": "execute_result",
          "data": {
            "text/plain": [
              "         laptop_ID       Inches  Price_euros\n",
              "count  1303.000000  1303.000000  1303.000000\n",
              "mean    660.155794    15.017191  1123.686992\n",
              "std     381.172104     1.426304   699.009043\n",
              "min       1.000000    10.100000   174.000000\n",
              "25%     331.500000    14.000000   599.000000\n",
              "50%     659.000000    15.600000   977.000000\n",
              "75%     990.500000    15.600000  1487.880000\n",
              "max    1320.000000    18.400000  6099.000000"
            ],
            "text/html": [
              "\n",
              "  <div id=\"df-cd27a652-1ad5-4f18-b3e2-726338f797e4\" class=\"colab-df-container\">\n",
              "    <div>\n",
              "<style scoped>\n",
              "    .dataframe tbody tr th:only-of-type {\n",
              "        vertical-align: middle;\n",
              "    }\n",
              "\n",
              "    .dataframe tbody tr th {\n",
              "        vertical-align: top;\n",
              "    }\n",
              "\n",
              "    .dataframe thead th {\n",
              "        text-align: right;\n",
              "    }\n",
              "</style>\n",
              "<table border=\"1\" class=\"dataframe\">\n",
              "  <thead>\n",
              "    <tr style=\"text-align: right;\">\n",
              "      <th></th>\n",
              "      <th>laptop_ID</th>\n",
              "      <th>Inches</th>\n",
              "      <th>Price_euros</th>\n",
              "    </tr>\n",
              "  </thead>\n",
              "  <tbody>\n",
              "    <tr>\n",
              "      <th>count</th>\n",
              "      <td>1303.000000</td>\n",
              "      <td>1303.000000</td>\n",
              "      <td>1303.000000</td>\n",
              "    </tr>\n",
              "    <tr>\n",
              "      <th>mean</th>\n",
              "      <td>660.155794</td>\n",
              "      <td>15.017191</td>\n",
              "      <td>1123.686992</td>\n",
              "    </tr>\n",
              "    <tr>\n",
              "      <th>std</th>\n",
              "      <td>381.172104</td>\n",
              "      <td>1.426304</td>\n",
              "      <td>699.009043</td>\n",
              "    </tr>\n",
              "    <tr>\n",
              "      <th>min</th>\n",
              "      <td>1.000000</td>\n",
              "      <td>10.100000</td>\n",
              "      <td>174.000000</td>\n",
              "    </tr>\n",
              "    <tr>\n",
              "      <th>25%</th>\n",
              "      <td>331.500000</td>\n",
              "      <td>14.000000</td>\n",
              "      <td>599.000000</td>\n",
              "    </tr>\n",
              "    <tr>\n",
              "      <th>50%</th>\n",
              "      <td>659.000000</td>\n",
              "      <td>15.600000</td>\n",
              "      <td>977.000000</td>\n",
              "    </tr>\n",
              "    <tr>\n",
              "      <th>75%</th>\n",
              "      <td>990.500000</td>\n",
              "      <td>15.600000</td>\n",
              "      <td>1487.880000</td>\n",
              "    </tr>\n",
              "    <tr>\n",
              "      <th>max</th>\n",
              "      <td>1320.000000</td>\n",
              "      <td>18.400000</td>\n",
              "      <td>6099.000000</td>\n",
              "    </tr>\n",
              "  </tbody>\n",
              "</table>\n",
              "</div>\n",
              "    <div class=\"colab-df-buttons\">\n",
              "\n",
              "  <div class=\"colab-df-container\">\n",
              "    <button class=\"colab-df-convert\" onclick=\"convertToInteractive('df-cd27a652-1ad5-4f18-b3e2-726338f797e4')\"\n",
              "            title=\"Convert this dataframe to an interactive table.\"\n",
              "            style=\"display:none;\">\n",
              "\n",
              "  <svg xmlns=\"http://www.w3.org/2000/svg\" height=\"24px\" viewBox=\"0 -960 960 960\">\n",
              "    <path d=\"M120-120v-720h720v720H120Zm60-500h600v-160H180v160Zm220 220h160v-160H400v160Zm0 220h160v-160H400v160ZM180-400h160v-160H180v160Zm440 0h160v-160H620v160ZM180-180h160v-160H180v160Zm440 0h160v-160H620v160Z\"/>\n",
              "  </svg>\n",
              "    </button>\n",
              "\n",
              "  <style>\n",
              "    .colab-df-container {\n",
              "      display:flex;\n",
              "      gap: 12px;\n",
              "    }\n",
              "\n",
              "    .colab-df-convert {\n",
              "      background-color: #E8F0FE;\n",
              "      border: none;\n",
              "      border-radius: 50%;\n",
              "      cursor: pointer;\n",
              "      display: none;\n",
              "      fill: #1967D2;\n",
              "      height: 32px;\n",
              "      padding: 0 0 0 0;\n",
              "      width: 32px;\n",
              "    }\n",
              "\n",
              "    .colab-df-convert:hover {\n",
              "      background-color: #E2EBFA;\n",
              "      box-shadow: 0px 1px 2px rgba(60, 64, 67, 0.3), 0px 1px 3px 1px rgba(60, 64, 67, 0.15);\n",
              "      fill: #174EA6;\n",
              "    }\n",
              "\n",
              "    .colab-df-buttons div {\n",
              "      margin-bottom: 4px;\n",
              "    }\n",
              "\n",
              "    [theme=dark] .colab-df-convert {\n",
              "      background-color: #3B4455;\n",
              "      fill: #D2E3FC;\n",
              "    }\n",
              "\n",
              "    [theme=dark] .colab-df-convert:hover {\n",
              "      background-color: #434B5C;\n",
              "      box-shadow: 0px 1px 3px 1px rgba(0, 0, 0, 0.15);\n",
              "      filter: drop-shadow(0px 1px 2px rgba(0, 0, 0, 0.3));\n",
              "      fill: #FFFFFF;\n",
              "    }\n",
              "  </style>\n",
              "\n",
              "    <script>\n",
              "      const buttonEl =\n",
              "        document.querySelector('#df-cd27a652-1ad5-4f18-b3e2-726338f797e4 button.colab-df-convert');\n",
              "      buttonEl.style.display =\n",
              "        google.colab.kernel.accessAllowed ? 'block' : 'none';\n",
              "\n",
              "      async function convertToInteractive(key) {\n",
              "        const element = document.querySelector('#df-cd27a652-1ad5-4f18-b3e2-726338f797e4');\n",
              "        const dataTable =\n",
              "          await google.colab.kernel.invokeFunction('convertToInteractive',\n",
              "                                                    [key], {});\n",
              "        if (!dataTable) return;\n",
              "\n",
              "        const docLinkHtml = 'Like what you see? Visit the ' +\n",
              "          '<a target=\"_blank\" href=https://colab.research.google.com/notebooks/data_table.ipynb>data table notebook</a>'\n",
              "          + ' to learn more about interactive tables.';\n",
              "        element.innerHTML = '';\n",
              "        dataTable['output_type'] = 'display_data';\n",
              "        await google.colab.output.renderOutput(dataTable, element);\n",
              "        const docLink = document.createElement('div');\n",
              "        docLink.innerHTML = docLinkHtml;\n",
              "        element.appendChild(docLink);\n",
              "      }\n",
              "    </script>\n",
              "  </div>\n",
              "\n",
              "\n",
              "<div id=\"df-6f27a829-905a-4496-a807-2c15da2c1eb0\">\n",
              "  <button class=\"colab-df-quickchart\" onclick=\"quickchart('df-6f27a829-905a-4496-a807-2c15da2c1eb0')\"\n",
              "            title=\"Suggest charts\"\n",
              "            style=\"display:none;\">\n",
              "\n",
              "<svg xmlns=\"http://www.w3.org/2000/svg\" height=\"24px\"viewBox=\"0 0 24 24\"\n",
              "     width=\"24px\">\n",
              "    <g>\n",
              "        <path d=\"M19 3H5c-1.1 0-2 .9-2 2v14c0 1.1.9 2 2 2h14c1.1 0 2-.9 2-2V5c0-1.1-.9-2-2-2zM9 17H7v-7h2v7zm4 0h-2V7h2v10zm4 0h-2v-4h2v4z\"/>\n",
              "    </g>\n",
              "</svg>\n",
              "  </button>\n",
              "\n",
              "<style>\n",
              "  .colab-df-quickchart {\n",
              "      --bg-color: #E8F0FE;\n",
              "      --fill-color: #1967D2;\n",
              "      --hover-bg-color: #E2EBFA;\n",
              "      --hover-fill-color: #174EA6;\n",
              "      --disabled-fill-color: #AAA;\n",
              "      --disabled-bg-color: #DDD;\n",
              "  }\n",
              "\n",
              "  [theme=dark] .colab-df-quickchart {\n",
              "      --bg-color: #3B4455;\n",
              "      --fill-color: #D2E3FC;\n",
              "      --hover-bg-color: #434B5C;\n",
              "      --hover-fill-color: #FFFFFF;\n",
              "      --disabled-bg-color: #3B4455;\n",
              "      --disabled-fill-color: #666;\n",
              "  }\n",
              "\n",
              "  .colab-df-quickchart {\n",
              "    background-color: var(--bg-color);\n",
              "    border: none;\n",
              "    border-radius: 50%;\n",
              "    cursor: pointer;\n",
              "    display: none;\n",
              "    fill: var(--fill-color);\n",
              "    height: 32px;\n",
              "    padding: 0;\n",
              "    width: 32px;\n",
              "  }\n",
              "\n",
              "  .colab-df-quickchart:hover {\n",
              "    background-color: var(--hover-bg-color);\n",
              "    box-shadow: 0 1px 2px rgba(60, 64, 67, 0.3), 0 1px 3px 1px rgba(60, 64, 67, 0.15);\n",
              "    fill: var(--button-hover-fill-color);\n",
              "  }\n",
              "\n",
              "  .colab-df-quickchart-complete:disabled,\n",
              "  .colab-df-quickchart-complete:disabled:hover {\n",
              "    background-color: var(--disabled-bg-color);\n",
              "    fill: var(--disabled-fill-color);\n",
              "    box-shadow: none;\n",
              "  }\n",
              "\n",
              "  .colab-df-spinner {\n",
              "    border: 2px solid var(--fill-color);\n",
              "    border-color: transparent;\n",
              "    border-bottom-color: var(--fill-color);\n",
              "    animation:\n",
              "      spin 1s steps(1) infinite;\n",
              "  }\n",
              "\n",
              "  @keyframes spin {\n",
              "    0% {\n",
              "      border-color: transparent;\n",
              "      border-bottom-color: var(--fill-color);\n",
              "      border-left-color: var(--fill-color);\n",
              "    }\n",
              "    20% {\n",
              "      border-color: transparent;\n",
              "      border-left-color: var(--fill-color);\n",
              "      border-top-color: var(--fill-color);\n",
              "    }\n",
              "    30% {\n",
              "      border-color: transparent;\n",
              "      border-left-color: var(--fill-color);\n",
              "      border-top-color: var(--fill-color);\n",
              "      border-right-color: var(--fill-color);\n",
              "    }\n",
              "    40% {\n",
              "      border-color: transparent;\n",
              "      border-right-color: var(--fill-color);\n",
              "      border-top-color: var(--fill-color);\n",
              "    }\n",
              "    60% {\n",
              "      border-color: transparent;\n",
              "      border-right-color: var(--fill-color);\n",
              "    }\n",
              "    80% {\n",
              "      border-color: transparent;\n",
              "      border-right-color: var(--fill-color);\n",
              "      border-bottom-color: var(--fill-color);\n",
              "    }\n",
              "    90% {\n",
              "      border-color: transparent;\n",
              "      border-bottom-color: var(--fill-color);\n",
              "    }\n",
              "  }\n",
              "</style>\n",
              "\n",
              "  <script>\n",
              "    async function quickchart(key) {\n",
              "      const quickchartButtonEl =\n",
              "        document.querySelector('#' + key + ' button');\n",
              "      quickchartButtonEl.disabled = true;  // To prevent multiple clicks.\n",
              "      quickchartButtonEl.classList.add('colab-df-spinner');\n",
              "      try {\n",
              "        const charts = await google.colab.kernel.invokeFunction(\n",
              "            'suggestCharts', [key], {});\n",
              "      } catch (error) {\n",
              "        console.error('Error during call to suggestCharts:', error);\n",
              "      }\n",
              "      quickchartButtonEl.classList.remove('colab-df-spinner');\n",
              "      quickchartButtonEl.classList.add('colab-df-quickchart-complete');\n",
              "    }\n",
              "    (() => {\n",
              "      let quickchartButtonEl =\n",
              "        document.querySelector('#df-6f27a829-905a-4496-a807-2c15da2c1eb0 button');\n",
              "      quickchartButtonEl.style.display =\n",
              "        google.colab.kernel.accessAllowed ? 'block' : 'none';\n",
              "    })();\n",
              "  </script>\n",
              "</div>\n",
              "    </div>\n",
              "  </div>\n"
            ],
            "application/vnd.google.colaboratory.intrinsic+json": {
              "type": "dataframe",
              "summary": "{\n  \"name\": \"df\",\n  \"rows\": 8,\n  \"fields\": [\n    {\n      \"column\": \"laptop_ID\",\n      \"properties\": {\n        \"dtype\": \"number\",\n        \"std\": 472.29591261766643,\n        \"min\": 1.0,\n        \"max\": 1320.0,\n        \"num_unique_values\": 8,\n        \"samples\": [\n          660.1557943207981,\n          659.0,\n          1303.0\n        ],\n        \"semantic_type\": \"\",\n        \"description\": \"\"\n      }\n    },\n    {\n      \"column\": \"Inches\",\n      \"properties\": {\n        \"dtype\": \"number\",\n        \"std\": 456.1568872675214,\n        \"min\": 1.4263040545691645,\n        \"max\": 1303.0,\n        \"num_unique_values\": 7,\n        \"samples\": [\n          1303.0,\n          15.017191097467379,\n          15.6\n        ],\n        \"semantic_type\": \"\",\n        \"description\": \"\"\n      }\n    },\n    {\n      \"column\": \"Price_euros\",\n      \"properties\": {\n        \"dtype\": \"number\",\n        \"std\": 1881.86130562464,\n        \"min\": 174.0,\n        \"max\": 6099.0,\n        \"num_unique_values\": 8,\n        \"samples\": [\n          1123.6869915579432,\n          977.0,\n          1303.0\n        ],\n        \"semantic_type\": \"\",\n        \"description\": \"\"\n      }\n    }\n  ]\n}"
            }
          },
          "metadata": {},
          "execution_count": 6
        }
      ]
    },
    {
      "cell_type": "markdown",
      "source": [
        "## Задание 3.\n",
        "Ответьте на несколько вопросов\n",
        "1. Ноутбуков от какой компании больше всего в наборе\n",
        "данных?\n",
        "2. Какая минимальная и максимальная стоимость у\n",
        "ноутбуков в данных?\n",
        "3. Какой самый дорогой ноутбук в данных?\n",
        "  Выведите все характеристики только по этому ноутбуку\n",
        "  Если таких ноутбуков несколько, то выводите их всех"
      ],
      "metadata": {
        "id": "oAxQUF6J-05l"
      }
    },
    {
      "cell_type": "code",
      "source": [
        "df['Company'].value_counts()"
      ],
      "metadata": {
        "id": "DStnVGMP-4Wg"
      },
      "execution_count": null,
      "outputs": []
    },
    {
      "cell_type": "code",
      "source": [
        "df['Price_euros'].min(), df['Price_euros'].max()"
      ],
      "metadata": {
        "id": "Cbb0-3IQ_pFK"
      },
      "execution_count": null,
      "outputs": []
    },
    {
      "cell_type": "code",
      "source": [
        "# df['Company']\n",
        "df[[\"Company\", \"Cpu\"]]"
      ],
      "metadata": {
        "id": "Drt7oETg_-8R"
      },
      "execution_count": null,
      "outputs": []
    },
    {
      "cell_type": "code",
      "source": [
        "df.sort_values(\"Price_euros\", ascending=False).iloc[0]"
      ],
      "metadata": {
        "colab": {
          "base_uri": "https://localhost:8080/"
        },
        "id": "W4F2KF-iANh6",
        "outputId": "796a4113-768f-4259-8f90-a5ea7f9de3f6"
      },
      "execution_count": null,
      "outputs": [
        {
          "output_type": "execute_result",
          "data": {
            "text/plain": [
              "laptop_ID                                           200\n",
              "Company                                           Razer\n",
              "Product                                       Blade Pro\n",
              "TypeName                                         Gaming\n",
              "Inches                                             17.3\n",
              "ScreenResolution    4K Ultra HD / Touchscreen 3840x2160\n",
              "Cpu                         Intel Core i7 7820HK 2.9GHz\n",
              "Ram                                                32GB\n",
              "Memory                                          1TB SSD\n",
              "Gpu                             Nvidia GeForce GTX 1080\n",
              "OpSys                                        Windows 10\n",
              "Weight                                           3.49kg\n",
              "Price_euros                                      6099.0\n",
              "Name: 196, dtype: object"
            ]
          },
          "metadata": {},
          "execution_count": 15
        }
      ]
    },
    {
      "cell_type": "markdown",
      "source": [
        "## Задание 4.\n",
        "Ответьте на несколько вопросов\n",
        "1. Найдите ноутбуки с самой маленькой диагональю в\n",
        "данных?\n",
        "Выведите только следующие характеристики:\n",
        "  1. Компания\n",
        "  2. Типа ноутбука\n",
        "  3. Диагональ\n",
        "  4. Стоимость\n",
        "Если таких ноутбуков несколько, то выводите их всех\n",
        "2. Сколько стоит самый дорогой ноутбук у компании HP?\n",
        "3. Как много ноутбуков Ultrabook с 8GB RAM?\n",
        "Найдите сколько таких ультрабуков с 8GB ОЗУ в процентном соотношении\n",
        "относительно всех ультрабуков"
      ],
      "metadata": {
        "id": "qeu5gdNaAy0W"
      }
    },
    {
      "cell_type": "code",
      "source": [
        "# df[df['Inches'] == df['Inches'].min()][['Company', 'TypeName', 'Inches', 'Price_euros']]\n",
        "df.loc[df['Inches'] == df['Inches'].min(), ['Company', 'TypeName', 'Inches', 'Price_euros']]"
      ],
      "metadata": {
        "colab": {
          "base_uri": "https://localhost:8080/",
          "height": 174
        },
        "id": "p0jNF-JfA3V1",
        "outputId": "7e5cbb7d-56ca-46f1-a423-e8cc8f09e210"
      },
      "execution_count": null,
      "outputs": [
        {
          "output_type": "execute_result",
          "data": {
            "text/plain": [
              "     Company            TypeName  Inches  Price_euros\n",
              "50    Lenovo  2 in 1 Convertible    10.1       319.00\n",
              "1082  Lenovo  2 in 1 Convertible    10.1       646.27\n",
              "1114  Lenovo  2 in 1 Convertible    10.1       549.00\n",
              "1126  Lenovo  2 in 1 Convertible    10.1       479.00"
            ],
            "text/html": [
              "\n",
              "  <div id=\"df-ab38264d-2cb6-4f02-82e9-e3689ee87db3\" class=\"colab-df-container\">\n",
              "    <div>\n",
              "<style scoped>\n",
              "    .dataframe tbody tr th:only-of-type {\n",
              "        vertical-align: middle;\n",
              "    }\n",
              "\n",
              "    .dataframe tbody tr th {\n",
              "        vertical-align: top;\n",
              "    }\n",
              "\n",
              "    .dataframe thead th {\n",
              "        text-align: right;\n",
              "    }\n",
              "</style>\n",
              "<table border=\"1\" class=\"dataframe\">\n",
              "  <thead>\n",
              "    <tr style=\"text-align: right;\">\n",
              "      <th></th>\n",
              "      <th>Company</th>\n",
              "      <th>TypeName</th>\n",
              "      <th>Inches</th>\n",
              "      <th>Price_euros</th>\n",
              "    </tr>\n",
              "  </thead>\n",
              "  <tbody>\n",
              "    <tr>\n",
              "      <th>50</th>\n",
              "      <td>Lenovo</td>\n",
              "      <td>2 in 1 Convertible</td>\n",
              "      <td>10.1</td>\n",
              "      <td>319.00</td>\n",
              "    </tr>\n",
              "    <tr>\n",
              "      <th>1082</th>\n",
              "      <td>Lenovo</td>\n",
              "      <td>2 in 1 Convertible</td>\n",
              "      <td>10.1</td>\n",
              "      <td>646.27</td>\n",
              "    </tr>\n",
              "    <tr>\n",
              "      <th>1114</th>\n",
              "      <td>Lenovo</td>\n",
              "      <td>2 in 1 Convertible</td>\n",
              "      <td>10.1</td>\n",
              "      <td>549.00</td>\n",
              "    </tr>\n",
              "    <tr>\n",
              "      <th>1126</th>\n",
              "      <td>Lenovo</td>\n",
              "      <td>2 in 1 Convertible</td>\n",
              "      <td>10.1</td>\n",
              "      <td>479.00</td>\n",
              "    </tr>\n",
              "  </tbody>\n",
              "</table>\n",
              "</div>\n",
              "    <div class=\"colab-df-buttons\">\n",
              "\n",
              "  <div class=\"colab-df-container\">\n",
              "    <button class=\"colab-df-convert\" onclick=\"convertToInteractive('df-ab38264d-2cb6-4f02-82e9-e3689ee87db3')\"\n",
              "            title=\"Convert this dataframe to an interactive table.\"\n",
              "            style=\"display:none;\">\n",
              "\n",
              "  <svg xmlns=\"http://www.w3.org/2000/svg\" height=\"24px\" viewBox=\"0 -960 960 960\">\n",
              "    <path d=\"M120-120v-720h720v720H120Zm60-500h600v-160H180v160Zm220 220h160v-160H400v160Zm0 220h160v-160H400v160ZM180-400h160v-160H180v160Zm440 0h160v-160H620v160ZM180-180h160v-160H180v160Zm440 0h160v-160H620v160Z\"/>\n",
              "  </svg>\n",
              "    </button>\n",
              "\n",
              "  <style>\n",
              "    .colab-df-container {\n",
              "      display:flex;\n",
              "      gap: 12px;\n",
              "    }\n",
              "\n",
              "    .colab-df-convert {\n",
              "      background-color: #E8F0FE;\n",
              "      border: none;\n",
              "      border-radius: 50%;\n",
              "      cursor: pointer;\n",
              "      display: none;\n",
              "      fill: #1967D2;\n",
              "      height: 32px;\n",
              "      padding: 0 0 0 0;\n",
              "      width: 32px;\n",
              "    }\n",
              "\n",
              "    .colab-df-convert:hover {\n",
              "      background-color: #E2EBFA;\n",
              "      box-shadow: 0px 1px 2px rgba(60, 64, 67, 0.3), 0px 1px 3px 1px rgba(60, 64, 67, 0.15);\n",
              "      fill: #174EA6;\n",
              "    }\n",
              "\n",
              "    .colab-df-buttons div {\n",
              "      margin-bottom: 4px;\n",
              "    }\n",
              "\n",
              "    [theme=dark] .colab-df-convert {\n",
              "      background-color: #3B4455;\n",
              "      fill: #D2E3FC;\n",
              "    }\n",
              "\n",
              "    [theme=dark] .colab-df-convert:hover {\n",
              "      background-color: #434B5C;\n",
              "      box-shadow: 0px 1px 3px 1px rgba(0, 0, 0, 0.15);\n",
              "      filter: drop-shadow(0px 1px 2px rgba(0, 0, 0, 0.3));\n",
              "      fill: #FFFFFF;\n",
              "    }\n",
              "  </style>\n",
              "\n",
              "    <script>\n",
              "      const buttonEl =\n",
              "        document.querySelector('#df-ab38264d-2cb6-4f02-82e9-e3689ee87db3 button.colab-df-convert');\n",
              "      buttonEl.style.display =\n",
              "        google.colab.kernel.accessAllowed ? 'block' : 'none';\n",
              "\n",
              "      async function convertToInteractive(key) {\n",
              "        const element = document.querySelector('#df-ab38264d-2cb6-4f02-82e9-e3689ee87db3');\n",
              "        const dataTable =\n",
              "          await google.colab.kernel.invokeFunction('convertToInteractive',\n",
              "                                                    [key], {});\n",
              "        if (!dataTable) return;\n",
              "\n",
              "        const docLinkHtml = 'Like what you see? Visit the ' +\n",
              "          '<a target=\"_blank\" href=https://colab.research.google.com/notebooks/data_table.ipynb>data table notebook</a>'\n",
              "          + ' to learn more about interactive tables.';\n",
              "        element.innerHTML = '';\n",
              "        dataTable['output_type'] = 'display_data';\n",
              "        await google.colab.output.renderOutput(dataTable, element);\n",
              "        const docLink = document.createElement('div');\n",
              "        docLink.innerHTML = docLinkHtml;\n",
              "        element.appendChild(docLink);\n",
              "      }\n",
              "    </script>\n",
              "  </div>\n",
              "\n",
              "\n",
              "<div id=\"df-0dff00dd-1809-48f1-8089-eacd94ca7215\">\n",
              "  <button class=\"colab-df-quickchart\" onclick=\"quickchart('df-0dff00dd-1809-48f1-8089-eacd94ca7215')\"\n",
              "            title=\"Suggest charts\"\n",
              "            style=\"display:none;\">\n",
              "\n",
              "<svg xmlns=\"http://www.w3.org/2000/svg\" height=\"24px\"viewBox=\"0 0 24 24\"\n",
              "     width=\"24px\">\n",
              "    <g>\n",
              "        <path d=\"M19 3H5c-1.1 0-2 .9-2 2v14c0 1.1.9 2 2 2h14c1.1 0 2-.9 2-2V5c0-1.1-.9-2-2-2zM9 17H7v-7h2v7zm4 0h-2V7h2v10zm4 0h-2v-4h2v4z\"/>\n",
              "    </g>\n",
              "</svg>\n",
              "  </button>\n",
              "\n",
              "<style>\n",
              "  .colab-df-quickchart {\n",
              "      --bg-color: #E8F0FE;\n",
              "      --fill-color: #1967D2;\n",
              "      --hover-bg-color: #E2EBFA;\n",
              "      --hover-fill-color: #174EA6;\n",
              "      --disabled-fill-color: #AAA;\n",
              "      --disabled-bg-color: #DDD;\n",
              "  }\n",
              "\n",
              "  [theme=dark] .colab-df-quickchart {\n",
              "      --bg-color: #3B4455;\n",
              "      --fill-color: #D2E3FC;\n",
              "      --hover-bg-color: #434B5C;\n",
              "      --hover-fill-color: #FFFFFF;\n",
              "      --disabled-bg-color: #3B4455;\n",
              "      --disabled-fill-color: #666;\n",
              "  }\n",
              "\n",
              "  .colab-df-quickchart {\n",
              "    background-color: var(--bg-color);\n",
              "    border: none;\n",
              "    border-radius: 50%;\n",
              "    cursor: pointer;\n",
              "    display: none;\n",
              "    fill: var(--fill-color);\n",
              "    height: 32px;\n",
              "    padding: 0;\n",
              "    width: 32px;\n",
              "  }\n",
              "\n",
              "  .colab-df-quickchart:hover {\n",
              "    background-color: var(--hover-bg-color);\n",
              "    box-shadow: 0 1px 2px rgba(60, 64, 67, 0.3), 0 1px 3px 1px rgba(60, 64, 67, 0.15);\n",
              "    fill: var(--button-hover-fill-color);\n",
              "  }\n",
              "\n",
              "  .colab-df-quickchart-complete:disabled,\n",
              "  .colab-df-quickchart-complete:disabled:hover {\n",
              "    background-color: var(--disabled-bg-color);\n",
              "    fill: var(--disabled-fill-color);\n",
              "    box-shadow: none;\n",
              "  }\n",
              "\n",
              "  .colab-df-spinner {\n",
              "    border: 2px solid var(--fill-color);\n",
              "    border-color: transparent;\n",
              "    border-bottom-color: var(--fill-color);\n",
              "    animation:\n",
              "      spin 1s steps(1) infinite;\n",
              "  }\n",
              "\n",
              "  @keyframes spin {\n",
              "    0% {\n",
              "      border-color: transparent;\n",
              "      border-bottom-color: var(--fill-color);\n",
              "      border-left-color: var(--fill-color);\n",
              "    }\n",
              "    20% {\n",
              "      border-color: transparent;\n",
              "      border-left-color: var(--fill-color);\n",
              "      border-top-color: var(--fill-color);\n",
              "    }\n",
              "    30% {\n",
              "      border-color: transparent;\n",
              "      border-left-color: var(--fill-color);\n",
              "      border-top-color: var(--fill-color);\n",
              "      border-right-color: var(--fill-color);\n",
              "    }\n",
              "    40% {\n",
              "      border-color: transparent;\n",
              "      border-right-color: var(--fill-color);\n",
              "      border-top-color: var(--fill-color);\n",
              "    }\n",
              "    60% {\n",
              "      border-color: transparent;\n",
              "      border-right-color: var(--fill-color);\n",
              "    }\n",
              "    80% {\n",
              "      border-color: transparent;\n",
              "      border-right-color: var(--fill-color);\n",
              "      border-bottom-color: var(--fill-color);\n",
              "    }\n",
              "    90% {\n",
              "      border-color: transparent;\n",
              "      border-bottom-color: var(--fill-color);\n",
              "    }\n",
              "  }\n",
              "</style>\n",
              "\n",
              "  <script>\n",
              "    async function quickchart(key) {\n",
              "      const quickchartButtonEl =\n",
              "        document.querySelector('#' + key + ' button');\n",
              "      quickchartButtonEl.disabled = true;  // To prevent multiple clicks.\n",
              "      quickchartButtonEl.classList.add('colab-df-spinner');\n",
              "      try {\n",
              "        const charts = await google.colab.kernel.invokeFunction(\n",
              "            'suggestCharts', [key], {});\n",
              "      } catch (error) {\n",
              "        console.error('Error during call to suggestCharts:', error);\n",
              "      }\n",
              "      quickchartButtonEl.classList.remove('colab-df-spinner');\n",
              "      quickchartButtonEl.classList.add('colab-df-quickchart-complete');\n",
              "    }\n",
              "    (() => {\n",
              "      let quickchartButtonEl =\n",
              "        document.querySelector('#df-0dff00dd-1809-48f1-8089-eacd94ca7215 button');\n",
              "      quickchartButtonEl.style.display =\n",
              "        google.colab.kernel.accessAllowed ? 'block' : 'none';\n",
              "    })();\n",
              "  </script>\n",
              "</div>\n",
              "    </div>\n",
              "  </div>\n"
            ],
            "application/vnd.google.colaboratory.intrinsic+json": {
              "type": "dataframe",
              "summary": "{\n  \"name\": \"df\",\n  \"rows\": 4,\n  \"fields\": [\n    {\n      \"column\": \"Company\",\n      \"properties\": {\n        \"dtype\": \"category\",\n        \"num_unique_values\": 1,\n        \"samples\": [\n          \"Lenovo\"\n        ],\n        \"semantic_type\": \"\",\n        \"description\": \"\"\n      }\n    },\n    {\n      \"column\": \"TypeName\",\n      \"properties\": {\n        \"dtype\": \"category\",\n        \"num_unique_values\": 1,\n        \"samples\": [\n          \"2 in 1 Convertible\"\n        ],\n        \"semantic_type\": \"\",\n        \"description\": \"\"\n      }\n    },\n    {\n      \"column\": \"Inches\",\n      \"properties\": {\n        \"dtype\": \"number\",\n        \"std\": 0.0,\n        \"min\": 10.1,\n        \"max\": 10.1,\n        \"num_unique_values\": 1,\n        \"samples\": [\n          10.1\n        ],\n        \"semantic_type\": \"\",\n        \"description\": \"\"\n      }\n    },\n    {\n      \"column\": \"Price_euros\",\n      \"properties\": {\n        \"dtype\": \"number\",\n        \"std\": 137.8242717799251,\n        \"min\": 319.0,\n        \"max\": 646.27,\n        \"num_unique_values\": 4,\n        \"samples\": [\n          646.27\n        ],\n        \"semantic_type\": \"\",\n        \"description\": \"\"\n      }\n    }\n  ]\n}"
            }
          },
          "metadata": {},
          "execution_count": 18
        }
      ]
    },
    {
      "cell_type": "code",
      "source": [
        "df[df['Company'] == 'HP'][\"Price_euros\"].max()"
      ],
      "metadata": {
        "colab": {
          "base_uri": "https://localhost:8080/"
        },
        "id": "S78SYDvkBmEx",
        "outputId": "d2e41303-2507-4580-9875-eea4efe8a212"
      },
      "execution_count": null,
      "outputs": [
        {
          "output_type": "execute_result",
          "data": {
            "text/plain": [
              "4389.0"
            ]
          },
          "metadata": {},
          "execution_count": 21
        }
      ]
    },
    {
      "cell_type": "code",
      "source": [
        "count_ultra = df[df['TypeName'] == 'Ultrabook'].shape[0]\n",
        "# .shape -> (кол-во строк, кол-во столбцов)\n",
        "# & - and\n",
        "# | - or\n",
        "count_ultra_8gb = df[(df['TypeName'] == 'Ultrabook') & (df['Ram'] == '8GB')].shape[0]\n",
        "count_ultra_8gb / count_ultra * 100"
      ],
      "metadata": {
        "colab": {
          "base_uri": "https://localhost:8080/"
        },
        "id": "L5_L3lmDCA7X",
        "outputId": "fe0b8b27-303c-41b7-ae3b-32b83adc6900"
      },
      "execution_count": null,
      "outputs": [
        {
          "output_type": "execute_result",
          "data": {
            "text/plain": [
              "71.42857142857143"
            ]
          },
          "metadata": {},
          "execution_count": 22
        }
      ]
    },
    {
      "cell_type": "markdown",
      "source": [
        "## Задание 5.\n",
        "1. Выберите ноутбук клиенту\n",
        "Клиент хочет подобрать ноутбук с 8GB или 16GB ОЗУ на Windows 10 в\n",
        "стоимости до 500 евро, сколько у него вариантов?\n",
        "2. Выберите ноутбук клиенту\n",
        "Клиент хочет подобрать ноутбук от MSI, с видеокартой Nvidia GeForce GTX\n",
        "1050 Ti и главное не с диагональю 15.6. В какой ценовой категории вышли\n",
        "подобные ноутбуки?\n",
        "3. Что дешевле?\n",
        "В среднем дешевле ноутбуки с CPU Intel Core i7 7700HQ 2.8GHz или с Intel\n",
        "Core i7 7600U 2.8GHz?"
      ],
      "metadata": {
        "id": "uiTTMLgmC6JL"
      }
    },
    {
      "cell_type": "code",
      "source": [
        "df.loc[((df['Ram'] == '8GB') | (df['Ram'] == '16GB')) & (df['OpSys'] == 'Windows 10') & (df['Price_euros'] < 500), 'Company'].shape[0]"
      ],
      "metadata": {
        "colab": {
          "base_uri": "https://localhost:8080/"
        },
        "id": "dWv4omi5C9P9",
        "outputId": "f983ae5d-d91c-418a-ce5c-480d07ce78ce"
      },
      "execution_count": null,
      "outputs": [
        {
          "output_type": "execute_result",
          "data": {
            "text/plain": [
              "13"
            ]
          },
          "metadata": {},
          "execution_count": 25
        }
      ]
    },
    {
      "cell_type": "code",
      "source": [
        "data = df.loc[(df['Company'] == 'MSI') & (df['Gpu'] == 'Nvidia GeForce GTX 1050 Ti') & (df['Inches'] != 15.6), 'Price_euros']\n",
        "data.min(), data.max()"
      ],
      "metadata": {
        "colab": {
          "base_uri": "https://localhost:8080/"
        },
        "id": "cG1ntJ-EDb9P",
        "outputId": "b58635d7-d49d-4895-fb3c-4a8682c80f4c"
      },
      "execution_count": null,
      "outputs": [
        {
          "output_type": "execute_result",
          "data": {
            "text/plain": [
              "(1199.0, 1599.0)"
            ]
          },
          "metadata": {},
          "execution_count": 27
        }
      ]
    },
    {
      "cell_type": "code",
      "source": [
        "df.loc[df['Cpu'] == 'Intel Core i7 7700HQ 2.8GHz', 'Price_euros'].mean()"
      ],
      "metadata": {
        "colab": {
          "base_uri": "https://localhost:8080/"
        },
        "id": "xuFHMfEfD3TL",
        "outputId": "10160d19-bd82-491f-9102-a99d94e68d70"
      },
      "execution_count": null,
      "outputs": [
        {
          "output_type": "execute_result",
          "data": {
            "text/plain": [
              "1760.4084246575342"
            ]
          },
          "metadata": {},
          "execution_count": 28
        }
      ]
    },
    {
      "cell_type": "code",
      "source": [
        "df.loc[df['Cpu'] == 'Intel Core i7 7600U 2.8GHz', 'Price_euros'].mean()"
      ],
      "metadata": {
        "colab": {
          "base_uri": "https://localhost:8080/"
        },
        "id": "liME_wchEIGa",
        "outputId": "f9924d21-be29-4e32-b7bd-7747bcddec87"
      },
      "execution_count": null,
      "outputs": [
        {
          "output_type": "execute_result",
          "data": {
            "text/plain": [
              "1915.710769230769"
            ]
          },
          "metadata": {},
          "execution_count": 29
        }
      ]
    },
    {
      "cell_type": "markdown",
      "source": [
        "## Задание 6.\n",
        "\n",
        "Найдите самый легкий ноутбук\n",
        "\n",
        "\n",
        "Но обратите внимание на тип и представление данных в признаке\n",
        "Weight, если что, замените в строке 'kg' на пустую строку через\n",
        "метод .str.replace()"
      ],
      "metadata": {
        "id": "MDN2N-yjETdY"
      }
    },
    {
      "cell_type": "code",
      "source": [
        "df.head()"
      ],
      "metadata": {
        "id": "Eg4PI8oZEVbj"
      },
      "execution_count": null,
      "outputs": []
    },
    {
      "cell_type": "code",
      "source": [
        "# 1.4kg.str.replace(\"kg\", \"\") -> \"1.4\""
      ],
      "metadata": {
        "id": "oCvtNNq7EjYu"
      },
      "execution_count": null,
      "outputs": []
    },
    {
      "cell_type": "code",
      "source": [
        "df['Weight'] = df['Weight'].str.replace('kg', '')\n",
        "df['Weight']"
      ],
      "metadata": {
        "colab": {
          "base_uri": "https://localhost:8080/"
        },
        "id": "URCsTA8EErI8",
        "outputId": "d67bf005-cc32-4958-a97f-e8fc0ad89789"
      },
      "execution_count": null,
      "outputs": [
        {
          "output_type": "execute_result",
          "data": {
            "text/plain": [
              "0       1.37\n",
              "1       1.34\n",
              "2       1.86\n",
              "3       1.83\n",
              "4       1.37\n",
              "        ... \n",
              "1298     1.8\n",
              "1299     1.3\n",
              "1300     1.5\n",
              "1301    2.19\n",
              "1302     2.2\n",
              "Name: Weight, Length: 1303, dtype: object"
            ]
          },
          "metadata": {},
          "execution_count": 31
        }
      ]
    },
    {
      "cell_type": "code",
      "source": [
        "df['Weight'] = df['Weight'].astype('float')\n",
        "df['Weight']"
      ],
      "metadata": {
        "colab": {
          "base_uri": "https://localhost:8080/"
        },
        "id": "6sfecn-xE1ME",
        "outputId": "c539b8aa-16fd-4709-d35c-a22d17b26664"
      },
      "execution_count": null,
      "outputs": [
        {
          "output_type": "execute_result",
          "data": {
            "text/plain": [
              "0       1.37\n",
              "1       1.34\n",
              "2       1.86\n",
              "3       1.83\n",
              "4       1.37\n",
              "        ... \n",
              "1298    1.80\n",
              "1299    1.30\n",
              "1300    1.50\n",
              "1301    2.19\n",
              "1302    2.20\n",
              "Name: Weight, Length: 1303, dtype: float64"
            ]
          },
          "metadata": {},
          "execution_count": 32
        }
      ]
    },
    {
      "cell_type": "code",
      "source": [
        "df['Weight'].min()"
      ],
      "metadata": {
        "id": "3Is4_NCkE6Mc",
        "outputId": "0fe8788e-adf3-47b1-e267-9c6c39674638",
        "colab": {
          "base_uri": "https://localhost:8080/"
        }
      },
      "execution_count": null,
      "outputs": [
        {
          "output_type": "execute_result",
          "data": {
            "text/plain": [
              "0.69"
            ]
          },
          "metadata": {},
          "execution_count": 33
        }
      ]
    }
  ]
}